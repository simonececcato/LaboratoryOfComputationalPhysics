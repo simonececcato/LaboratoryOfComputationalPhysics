{
 "cells": [
  {
   "cell_type": "markdown",
   "metadata": {},
   "source": [
    "1. The MickeyMouse problem\n",
    "\n",
    "a) Write a program that prints the numbers from 1 to 100. But for multiples of three print Mickey instead of the number and for the multiples of five print Mouse. For numbers which are multiples of both three and five print MickeyMouse\n",
    "\n",
    "b) Put the result in a tuple and substitute Mickey with Donald and Mouse with Duck"
   ]
  },
  {
   "cell_type": "code",
   "execution_count": 6,
   "metadata": {},
   "outputs": [
    {
     "name": "stdout",
     "output_type": "stream",
     "text": [
      "1\n",
      "2\n",
      "Mickey\n",
      "4\n",
      "Mouse\n",
      "Mickey\n",
      "7\n",
      "8\n",
      "Mickey\n",
      "Mouse\n",
      "11\n",
      "Mickey\n",
      "13\n",
      "14\n",
      "MickeyMouse\n",
      "16\n",
      "17\n",
      "Mickey\n",
      "19\n",
      "Mouse\n",
      "Mickey\n",
      "22\n",
      "23\n",
      "Mickey\n",
      "Mouse\n",
      "26\n",
      "Mickey\n",
      "28\n",
      "29\n",
      "MickeyMouse\n",
      "31\n",
      "32\n",
      "Mickey\n",
      "34\n",
      "Mouse\n",
      "Mickey\n",
      "37\n",
      "38\n",
      "Mickey\n",
      "Mouse\n",
      "41\n",
      "Mickey\n",
      "43\n",
      "44\n",
      "MickeyMouse\n",
      "46\n",
      "47\n",
      "Mickey\n",
      "49\n",
      "Mouse\n",
      "Mickey\n",
      "52\n",
      "53\n",
      "Mickey\n",
      "Mouse\n",
      "56\n",
      "Mickey\n",
      "58\n",
      "59\n",
      "MickeyMouse\n",
      "61\n",
      "62\n",
      "Mickey\n",
      "64\n",
      "Mouse\n",
      "Mickey\n",
      "67\n",
      "68\n",
      "Mickey\n",
      "Mouse\n",
      "71\n",
      "Mickey\n",
      "73\n",
      "74\n",
      "MickeyMouse\n",
      "76\n",
      "77\n",
      "Mickey\n",
      "79\n",
      "Mouse\n",
      "Mickey\n",
      "82\n",
      "83\n",
      "Mickey\n",
      "Mouse\n",
      "86\n",
      "Mickey\n",
      "88\n",
      "89\n",
      "MickeyMouse\n",
      "91\n",
      "92\n",
      "Mickey\n",
      "94\n",
      "Mouse\n",
      "Mickey\n",
      "97\n",
      "98\n",
      "Mickey\n"
     ]
    }
   ],
   "source": [
    "# Iterate from 1 to 100 with step of 1 and print the results (already put the results in a list)\n",
    "\n",
    "ex1output = []\n",
    "\n",
    "for i in range(1,100,1):\n",
    "    if i % 3 == 0 and i % 5 == 0 :\n",
    "        value = \"MickeyMouse\"\n",
    "    elif i % 3 == 0 :\n",
    "        value = \"Mickey\"\n",
    "    elif i % 5 == 0 :\n",
    "        value = \"Mouse\"\n",
    "    else :\n",
    "        value = i\n",
    "        \n",
    "    print(value)\n",
    "    ex1output.append(value)"
   ]
  },
  {
   "cell_type": "code",
   "execution_count": 11,
   "metadata": {},
   "outputs": [
    {
     "name": "stdout",
     "output_type": "stream",
     "text": [
      "[1, 2, 'Donald', 4, 'Duck', 'Donald', 7, 8, 'Donald', 'Duck', 11, 'Donald', 13, 14, 'DonaldDuck', 16, 17, 'Donald', 19, 'Duck', 'Donald', 22, 23, 'Donald', 'Duck', 26, 'Donald', 28, 29, 'DonaldDuck', 31, 32, 'Donald', 34, 'Duck', 'Donald', 37, 38, 'Donald', 'Duck', 41, 'Donald', 43, 44, 'DonaldDuck', 46, 47, 'Donald', 49, 'Duck', 'Donald', 52, 53, 'Donald', 'Duck', 56, 'Donald', 58, 59, 'DonaldDuck', 61, 62, 'Donald', 64, 'Duck', 'Donald', 67, 68, 'Donald', 'Duck', 71, 'Donald', 73, 74, 'DonaldDuck', 76, 77, 'Donald', 79, 'Duck', 'Donald', 82, 83, 'Donald', 'Duck', 86, 'Donald', 88, 89, 'DonaldDuck', 91, 92, 'Donald', 94, 'Duck', 'Donald', 97, 98, 'Donald']\n"
     ]
    }
   ],
   "source": [
    "# We have the list ex1output containing all the previous cell results, using list comprehension\n",
    "# we generate another list with the values replaced\n",
    "\n",
    "ex1output_replaced = ['DonaldDuck' if word == 'MickeyMouse' \n",
    "                      else 'Donald' if word == 'Mickey' \n",
    "                      else 'Duck' if word == 'Mouse' \n",
    "                      else word \n",
    "                      for word in ex1output]\n",
    "\n",
    "print(ex1output_replaced)"
   ]
  },
  {
   "cell_type": "markdown",
   "metadata": {},
   "source": [
    "2\\. The swap function\n",
    "\n",
    "Write a function that swap the values of two input variables x and y (whatever the type). Try to do that also without a temporary variable"
   ]
  },
  {
   "cell_type": "code",
   "execution_count": 24,
   "metadata": {},
   "outputs": [
    {
     "name": "stdout",
     "output_type": "stream",
     "text": [
      "Original values a=Hello:How: ar:e yo:u, b=10\n",
      "Modified values a=10, b=Hello:How: ar:e yo:u\n"
     ]
    }
   ],
   "source": [
    "# Function that swap the value of two variables using a temporary variable\n",
    "def swap(a,b):\n",
    "    temp = a\n",
    "    a = b\n",
    "    b = temp\n",
    "    return a,b\n",
    "\n",
    "# Function that swap the value of two variables without using a temporary variable using string manipulation\n",
    "def noTempSwap(a,b):\n",
    "    typea = type(a)\n",
    "    typeb = type(b)\n",
    "    b = str(b) + \":\" + str(a)    \n",
    "    return typeb(b[:b.find(\":\")]), typea(b[b.find(\":\")+1:])\n",
    "\n",
    "a = \"Hello:How: ar:e yo:u\"\n",
    "b = 10\n",
    "\n",
    "print(\"Original values a=%s, b=%s\"% (a, b))\n",
    "a, b = noTempSwap(a, b)\n",
    "print(\"Modified values a=%s, b=%s\"% (a, b))"
   ]
  },
  {
   "cell_type": "markdown",
   "metadata": {},
   "source": [
    "3\\. Computing the distance\n",
    "\n",
    "Write a function that calculates and returns the euclidean distance between two points *u* and *v*, where *u* and *v* are both 2-tuples *(x,y)*. For example, if *u=(3,0)* and *v=(0,4)*, the function should return 5"
   ]
  },
  {
   "cell_type": "code",
   "execution_count": 31,
   "metadata": {},
   "outputs": [
    {
     "name": "stdout",
     "output_type": "stream",
     "text": [
      "The distance between (3, 0) and (0, 4) is 5.0\n"
     ]
    }
   ],
   "source": [
    "#Function that finds the euclidean distance between two points \n",
    "import math\n",
    "def euclideanDist(a, b):\n",
    "    distance = math.sqrt(pow(a[0] - b[0], 2) + pow(a[1] - b[1], 2))\n",
    "    return distance\n",
    "\n",
    "u = (3, 0)\n",
    "v = (0, 4)\n",
    "\n",
    "print(\"The distance between %s and %s is %s\"% (u, v, euclideanDist(u, v)))\n",
    "\n"
   ]
  },
  {
   "cell_type": "markdown",
   "metadata": {},
   "source": [
    "4\\. Counting letters\n",
    "\n",
    "Write a program to calculate the number of times each character occurs in a given string *s*. Ignore differneces in capitalization"
   ]
  },
  {
   "cell_type": "code",
   "execution_count": 42,
   "metadata": {
    "collapsed": true
   },
   "outputs": [],
   "source": [
    "s=\"Write a program that prints the numbers from 1 to 100. \\\n",
    "But for multiples of three print Mickey instead of the number and for the multiples of five print Mouse. \\\n",
    "For numbers which are multiples of both three and five print MickeyMouse\""
   ]
  },
  {
   "cell_type": "code",
   "execution_count": 43,
   "metadata": {},
   "outputs": [
    {
     "name": "stdout",
     "output_type": "stream",
     "text": [
      "[(' ', 41), ('E', 22), ('T', 19), ('R', 17), ('I', 14), ('O', 13), ('M', 12), ('F', 10), ('N', 10), ('H', 9), ('S', 9), ('U', 9), ('P', 8), ('A', 7), ('L', 6), ('B', 5), ('C', 3), ('D', 3), ('.', 2), ('1', 2), ('0', 2), ('K', 2), ('W', 2), ('V', 2), ('Y', 2), ('G', 1)]\n"
     ]
    }
   ],
   "source": [
    "# Create a dictionary of key-value pairs in order to count the occurences of a certain characters\n",
    "ex4dict = dict()\n",
    "\n",
    "# Iterate through the string and analyze every character(capitalized in order to perform a case-unsensitive analysis)\n",
    "for i in range(0,len(characters),1):\n",
    "    key = s[i].capitalize()\n",
    "    # If the key already exist in the dictionary, increment its value by 1\n",
    "    if key in ex4dict:\n",
    "        ex4dict[key] += 1\n",
    "    # Else create a new key with value 1\n",
    "    else:\n",
    "        ex4dict[key] = 1\n",
    "        \n",
    "#Sort the dictionary in order to display key-value pairs in descending order with respect of the value\n",
    "sorted_by_value = sorted(ex4dict.items(), reverse=True, key=lambda kv: kv[1])\n",
    "\n",
    "print(sorted_by_value)"
   ]
  },
  {
   "cell_type": "markdown",
   "metadata": {},
   "source": [
    "5\\. Isolating the unique\n",
    "\n",
    "Write a function that determines and count the unique numbers in the list *l*"
   ]
  },
  {
   "cell_type": "code",
   "execution_count": 48,
   "metadata": {
    "collapsed": true
   },
   "outputs": [],
   "source": [
    "l = [36, 45, 58, 3, 74, 96, 64, 45, 31, 10, 24, 19, 33, 86, 99, 18, 63, 70, 85,\n",
    " 85, 63, 47, 56, 42, 70, 84, 88, 55, 20, 54, 8, 56, 51, 79, 81, 57, 37, 91,\n",
    " 1, 84, 84, 36, 66, 9, 89, 50, 42, 91, 50, 95, 90, 98, 39, 16, 82, 31, 92, 41,\n",
    " 45, 30, 66, 70, 34, 85, 94, 5, 3, 36, 72, 91, 84, 34, 87, 75, 53, 51, 20, 89, 51, 20]"
   ]
  },
  {
   "cell_type": "code",
   "execution_count": 57,
   "metadata": {},
   "outputs": [
    {
     "name": "stdout",
     "output_type": "stream",
     "text": [
      "The unique numbers in the list are:\n",
      "[1, 5, 8, 9, 10, 16, 18, 19, 20, 24, 30, 33, 36, 37, 39, 41, 45, 47, 51, 53, 54, 55, 57, 58, 64, 70, 72, 74, 75, 79, 81, 82, 85, 86, 87, 88, 90, 91, 92, 94, 95, 96, 98, 99]\n"
     ]
    }
   ],
   "source": [
    "# Create a dictionary of key-value pairs in order to count the occurences of a certain number\n",
    "ex5dict = dict()\n",
    "\n",
    "# Iterate through the string and analyze every number\n",
    "for i in range(0,len(l),1):\n",
    "    key = l[i]\n",
    "    # If the key already exist in the dictionary, delete it\n",
    "    if key in ex5dict:\n",
    "        del ex5dict[key]\n",
    "    # Else create a new key with value 1\n",
    "    else:\n",
    "        ex5dict[key] = 1\n",
    "\n",
    "# Using the keys() method to print only the keys and not their values\n",
    "print(\"The unique numbers in the list are:\")\n",
    "print(ex5dict.keys())"
   ]
  },
  {
   "cell_type": "markdown",
   "metadata": {},
   "source": [
    "6\\. Combination of functions\n",
    "\n",
    "Write two functions - one that returns the square of a number, and one that returns the cube. Now write a third function that returns the number raised to the 6th power using the two previous functions."
   ]
  },
  {
   "cell_type": "code",
   "execution_count": 58,
   "metadata": {},
   "outputs": [
    {
     "name": "stdout",
     "output_type": "stream",
     "text": [
      "The square of 4 is: 16\n",
      "The cube of 4 is: 64\n",
      "The 6-th power of 4 is: 4096\n"
     ]
    }
   ],
   "source": [
    "def square(a):\n",
    "    return a**2\n",
    "\n",
    "def cube(a):\n",
    "    return a**3\n",
    "\n",
    "def sixthpow(a):\n",
    "    return square(cube(a))\n",
    "    \n",
    "num = 4\n",
    "print(\"The square of %s is: %s\"%(num,square(num)))\n",
    "print(\"The cube of %s is: %s\"%(num,cube(num)))\n",
    "print(\"The 6-th power of %s is: %s\"%(num,sixthpow(num)))"
   ]
  },
  {
   "cell_type": "markdown",
   "metadata": {},
   "source": [
    "7\\. Cubes\n",
    "\n",
    "Create a list of the cubes of x for x in *[0, 10]* using:\n",
    "\n",
    "a) a for loop\n",
    "\n",
    "b) a list comprehension"
   ]
  },
  {
   "cell_type": "code",
   "execution_count": 59,
   "metadata": {},
   "outputs": [
    {
     "name": "stdout",
     "output_type": "stream",
     "text": [
      "List created using loop: [0, 1, 8, 27, 64, 125, 216, 343, 512, 729]\n",
      "List created using list comprehension: [0, 1, 8, 27, 64, 125, 216, 343, 512, 729]\n"
     ]
    }
   ],
   "source": [
    "# Creation of a list of cubes using a loop and the cube() method declared before\n",
    "cubes_list = []\n",
    "for i in range(0, 10, 1):\n",
    "    cubes_list.append(cube(i))\n",
    "print(\"List created using loop: %s\"%(cubes_list))\n",
    "    \n",
    "# Creation of a list of cubes using a comprehension and the cube() method declared before\n",
    "cubes_lc = [cube(x) for x in range(0, 10, 1)]\n",
    "print(\"List created using list comprehension: %s\"%(cubes_lc))"
   ]
  },
  {
   "cell_type": "markdown",
   "metadata": {},
   "source": [
    "8\\. Nested list comprehension\n",
    "\n",
    "A Pythagorean triple is an integer solution to the Pythagorean theorem $a^2+b^2=c^2$. The first Pythagorean triple is (3,4,5). Find and put in a tuple all unique Pythagorean triples for the positive integers a, b and c less than 100."
   ]
  },
  {
   "cell_type": "code",
   "execution_count": 74,
   "metadata": {},
   "outputs": [
    {
     "name": "stdout",
     "output_type": "stream",
     "text": [
      "0: (3, 4, 5)\n",
      "1: (5, 12, 13)\n",
      "2: (6, 8, 10)\n",
      "3: (7, 24, 25)\n",
      "4: (8, 15, 17)\n",
      "5: (9, 12, 15)\n",
      "6: (9, 40, 41)\n",
      "7: (10, 24, 26)\n",
      "8: (11, 60, 61)\n",
      "9: (12, 16, 20)\n",
      "10: (12, 35, 37)\n",
      "11: (13, 84, 85)\n",
      "12: (14, 48, 50)\n",
      "13: (15, 20, 25)\n",
      "14: (15, 36, 39)\n",
      "15: (16, 30, 34)\n",
      "16: (16, 63, 65)\n",
      "17: (18, 24, 30)\n",
      "18: (18, 80, 82)\n",
      "19: (20, 21, 29)\n",
      "20: (20, 48, 52)\n",
      "21: (21, 28, 35)\n",
      "22: (21, 72, 75)\n",
      "23: (24, 32, 40)\n",
      "24: (24, 45, 51)\n",
      "25: (24, 70, 74)\n",
      "26: (25, 60, 65)\n",
      "27: (27, 36, 45)\n",
      "28: (28, 45, 53)\n",
      "29: (28, 96, 100)\n",
      "30: (30, 40, 50)\n",
      "31: (30, 72, 78)\n",
      "32: (32, 60, 68)\n",
      "33: (33, 44, 55)\n",
      "34: (33, 56, 65)\n",
      "35: (35, 84, 91)\n",
      "36: (36, 48, 60)\n",
      "37: (36, 77, 85)\n",
      "38: (39, 52, 65)\n",
      "39: (39, 80, 89)\n",
      "40: (40, 42, 58)\n",
      "41: (40, 75, 85)\n",
      "42: (42, 56, 70)\n",
      "43: (45, 60, 75)\n",
      "44: (48, 55, 73)\n",
      "45: (48, 64, 80)\n",
      "46: (51, 68, 85)\n",
      "47: (54, 72, 90)\n",
      "48: (57, 76, 95)\n",
      "49: (60, 63, 87)\n",
      "50: (60, 80, 100)\n",
      "51: (65, 72, 97)\n"
     ]
    }
   ],
   "source": [
    "n = 100\n",
    "ex8triplets = [(a,b,c) for a in range(1,n+1) for b in range(a,n+1) for c in range(b,n+1) if a**2 + b**2 == c**2]\n",
    "\n",
    "print('\\n'.join('{}: {}'.format(*k) for k in enumerate(ex8triplets)))"
   ]
  },
  {
   "cell_type": "markdown",
   "metadata": {},
   "source": [
    "9\\. Normalization\n",
    "\n",
    "Write a function that takes a tuple of numbers and returns it with the entries normalized to one"
   ]
  },
  {
   "cell_type": "code",
   "execution_count": 86,
   "metadata": {},
   "outputs": [
    {
     "name": "stdout",
     "output_type": "stream",
     "text": [
      "The normalized vector is: (0.2886751345948129, 0.2886751345948129, 0.2886751345948129, 0.8660254037844387)\n"
     ]
    }
   ],
   "source": [
    "import math\n",
    "def normalize(vector):\n",
    "    squaredsum = 0\n",
    "    for i in range(0, len(vector), 1):\n",
    "        squaredsum += vector[i]**2\n",
    "        \n",
    "    norm = math.sqrt(squaredsum)\n",
    "    \n",
    "    normalizedvalues = []\n",
    "    for i in range(0, len(vector), 1):\n",
    "        normalizedvalues.append(vector[i]/norm)\n",
    "    \n",
    "    return tuple(normalizedvalues)\n",
    "\n",
    "vec = (1,1,1,3)\n",
    "normalized_vec = normalize(vec)\n",
    "\n",
    "print(\"The normalized vector is: %s\"%(normalized_vec,))"
   ]
  },
  {
   "cell_type": "code",
   "execution_count": null,
   "metadata": {
    "collapsed": true
   },
   "outputs": [],
   "source": []
  }
 ],
 "metadata": {
  "kernelspec": {
   "display_name": "Python 3",
   "language": "python",
   "name": "python3"
  },
  "language_info": {
   "codemirror_mode": {
    "name": "ipython",
    "version": 3
   },
   "file_extension": ".py",
   "mimetype": "text/x-python",
   "name": "python",
   "nbconvert_exporter": "python",
   "pygments_lexer": "ipython3",
   "version": "3.6.6"
  }
 },
 "nbformat": 4,
 "nbformat_minor": 2
}
