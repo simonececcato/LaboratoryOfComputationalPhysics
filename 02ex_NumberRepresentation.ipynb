{
 "cells": [
  {
   "cell_type": "markdown",
   "metadata": {},
   "source": [
    "1\\. Write a function that converts number representation (bin<->dec<->hex)"
   ]
  },
  {
   "cell_type": "code",
   "execution_count": 6,
   "metadata": {},
   "outputs": [
    {
     "name": "stdout",
     "output_type": "stream",
     "text": [
      "0b11110000\n",
      "-241\n",
      "0\n",
      "255\n",
      "165\n",
      "1\n",
      "30\n",
      "0\n",
      "1\n"
     ]
    }
   ],
   "source": [
    "# Some bytes to play with\n",
    "byte1 = int('11110000', 2)  # 240\n",
    "byte2 = int('00001111', 2)  # 15\n",
    "byte3 = int('01010101', 2)  # 85\n",
    "\n",
    "print(bin(byte1))\n",
    "\n",
    "# Ones Complement (Flip the bits)\n",
    "print(~byte1)\n",
    "\n",
    "# AND\n",
    "print(byte1 & byte2)\n",
    "\n",
    "# OR\n",
    "print(byte1 | byte2)\n",
    "\n",
    "# XOR\n",
    "print(byte1 ^ byte3)\n",
    "\n",
    "# Shifting right will lose the right-most bit\n",
    "print(byte2 >> 3)\n",
    "\n",
    "# Shifting left will add a 0 bit on the right side\n",
    "print(byte2 << 1)\n",
    "\n",
    "# See if a single bit is set\n",
    "bit_mask = int('00000001', 2)  # Bit 1\n",
    "print(bit_mask & byte1)  # Is bit set in byte1?\n",
    "print(bit_mask & byte2)  # Is bit set in byte2?"
   ]
  },
  {
   "cell_type": "code",
   "execution_count": 93,
   "metadata": {},
   "outputs": [
    {
     "name": "stdout",
     "output_type": "stream",
     "text": [
      "12\n",
      "18\n"
     ]
    }
   ],
   "source": [
    "letters = ['A', 'B', 'C', 'D', 'E', 'F']\n",
    "\n",
    "def convert(number, startbase, endbase):\n",
    "    if startbase == 10:\n",
    "        cnum = []\n",
    "        while number > 0:\n",
    "            r = number % endbase\n",
    "            number = number // endbase\n",
    "            if r > 10:\n",
    "                r = letters.get(r-10)\n",
    "            cnum.append(r)\n",
    "        return ''.join(str(e) for e in cnum[::-1])\n",
    "    elif startbase == 16 or startbase == 2:\n",
    "        number = str(number)[::-1]\n",
    "        cnum2 = 0\n",
    "        for i in range(len(number)):\n",
    "            num = number[i]\n",
    "            if number[i] in letters:\n",
    "                num = letters.index(number[i])\n",
    "            value = int(num)*(pow(startbase, i))\n",
    "            cnum2 = cnum2 + value\n",
    "        return cnum2\n",
    "    \n",
    "n = int('C',16)\n",
    "print(int('C', 16))\n",
    "print(convert(n, 16, 10))\n",
    "            "
   ]
  },
  {
   "cell_type": "markdown",
   "metadata": {},
   "source": [
    "# 2\\. Write a function that converts a 32 bit word into a single precision floating point (i.e. interprets the various bits as sign, mantissa and exponent)"
   ]
  },
  {
   "cell_type": "code",
   "execution_count": null,
   "metadata": {},
   "outputs": [],
   "source": [
    "def singlepfloat(x):\n",
    "    "
   ]
  },
  {
   "cell_type": "markdown",
   "metadata": {},
   "source": [
    "3\\. Write a program to determine the underflow and overflow limits (within a factor of 2) for python on your computer. \n",
    "\n",
    "**Tips**: define two variables inizialized to 1 and halve/double them enough time to exceed the under/over-flow limits  "
   ]
  },
  {
   "cell_type": "markdown",
   "metadata": {},
   "source": [
    "4\\. Write a program to determine the machine precision\n",
    "\n",
    "**Tips**: define a new variable by adding a smaller and smaller value (proceeding similarly to prob. 2) to an original variable and check the point where the two are the same "
   ]
  },
  {
   "cell_type": "markdown",
   "metadata": {},
   "source": [
    "5\\. Write a function that takes in input three parameters $a$, $b$ and $c$ and prints out the two solutions to the quadratic equation $ax^2+bx+c=0$ using the standard formula:\n",
    "$$\n",
    "x=\\frac{-b\\pm\\sqrt{b^2-4ac}}{2a}\n",
    "$$\n",
    "\n",
    "(a) use the program to compute the solution for $a=0.001$, $b=1000$ and $c=0.001$\n",
    "\n",
    "(b) re-express the standard solution formula by multiplying top and bottom by $-b\\mp\\sqrt{b^2-4ac}$ and again find the solution for $a=0.001$, $b=1000$ and $c=0.001$. How does it compare with what previously obtained? Why?\n",
    "\n",
    "(c) write a function that compute the roots of a quadratic equation accurately in all cases"
   ]
  },
  {
   "cell_type": "markdown",
   "metadata": {},
   "source": [
    "6\\. Write a program that implements the function $f(x)=x(x−1)$\n",
    "\n",
    "(a) Calculate the derivative of the function at the point $x = 1$ using the derivative definition:\n",
    "\n",
    "$$\n",
    "\\frac{{\\rm d}f}{{\\rm d}x} = \\lim_{\\delta\\to0} \\frac{f(x+\\delta)-f(x)}{\\delta}\n",
    "$$\n",
    "\n",
    "with $\\delta = 10^{−2}$. Calculate the true value of the same derivative analytically and compare with the answer your program gives. The two will not agree perfectly. Why not?\n",
    "\n",
    "(b) Repeat the calculation for $\\delta = 10^{−4}, 10^{−6}, 10^{−8}, 10^{−10}, 10^{−12}$ and $10^{−14}$. How does the accuracy scales with $\\delta$?"
   ]
  },
  {
   "cell_type": "markdown",
   "metadata": {},
   "source": [
    "7\\. Consider the integral of the semicircle of radius 1:\n",
    "$$\n",
    "I=\\int_{-1}^{1} \\sqrt(1-x^2) {\\rm d}x\n",
    "$$\n",
    "which it's known to be $I=\\frac{\\pi}{2}=1.57079632679...$.\n",
    "Alternatively we can use the Riemann definition of the integral:\n",
    "$$\n",
    "I=\\lim_{N\\to\\infty} \\sum_{k=1}^{N} h y_k \n",
    "$$\n",
    "\n",
    "with $h=2/N$ the width of each of the $N$ slices the domain is divided into and where\n",
    "$y_k$ is the value of the function at the $k-$th slice.\n",
    "\n",
    "(a) Write a programe to compute the integral with $N=100$. How does the result compares to the true value?\n",
    "\n",
    "(b) How much can $N$ be increased if the computation needs to be run in less than a second? What is the gain in running it for 1 minute? \n"
   ]
  },
  {
   "cell_type": "code",
   "execution_count": null,
   "metadata": {
    "collapsed": true
   },
   "outputs": [],
   "source": []
  }
 ],
 "metadata": {
  "kernelspec": {
   "display_name": "Python 3",
   "language": "python",
   "name": "python3"
  },
  "language_info": {
   "codemirror_mode": {
    "name": "ipython",
    "version": 3
   },
   "file_extension": ".py",
   "mimetype": "text/x-python",
   "name": "python",
   "nbconvert_exporter": "python",
   "pygments_lexer": "ipython3",
   "version": "3.6.6"
  }
 },
 "nbformat": 4,
 "nbformat_minor": 2
}
